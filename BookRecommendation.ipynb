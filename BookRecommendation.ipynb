{
 "cells": [
  {
   "cell_type": "markdown",
   "metadata": {},
   "source": [
    "# Reading from amazon books text file"
   ]
  },
  {
   "cell_type": "code",
   "execution_count": 30,
   "metadata": {},
   "outputs": [
    {
     "name": "stdout",
     "output_type": "stream",
     "text": [
      "\n"
     ]
    }
   ],
   "source": [
    "print ()\n",
    "import math\n",
    "import networkx\n",
    "import operator \n",
    "import matplotlib.pyplot\n",
    "\n",
    "\n",
    "\n",
    "file = open('./amazon-books.txt', 'r', encoding='utf-8', errors='ignore')\n",
    "amazonBooks = {}\n",
    "file.readline()\n",
    "for line in file:\n",
    "    cell = line.split('\\t')\n",
    "    MetaData = {}\n",
    "    MetaData['Id'] = cell[0].strip() \n",
    "    ASIN = cell[1].strip()\n",
    "    MetaData['Title'] = cell[2].strip()\n",
    "    MetaData['Categories'] = cell[3].strip()\n",
    "    MetaData['Group'] = cell[4].strip()\n",
    "    MetaData['SalesRank'] = int(cell[5].strip())\n",
    "    MetaData['TotalReviews'] = int(cell[6].strip())\n",
    "    MetaData['AvgRating'] = float(cell[7].strip())\n",
    "    MetaData['DegreeCentrality'] = int(cell[8].strip())\n",
    "    MetaData['ClusteringCoeff'] = float(cell[9].strip())\n",
    "    amazonBooks[ASIN] = MetaData\n",
    "file.close()\n",
    "\n",
    "\n",
    "file=open(\"purchased_Together.edgelist\", 'rb')\n",
    "purchased_TogetherGraph=networkx.read_weighted_edgelist(file)\n",
    "file.close()\n",
    "\n",
    "file=open(\"purchased_Together_Title.edgelist\",'rb')\n",
    "purchased_TitleGraph =networkx.read_weighted_edgelist(file)\n",
    "file.close()\n",
    "\n"
   ]
  },
  {
   "cell_type": "markdown",
   "metadata": {},
   "source": [
    "# Recommendation based on Content based (on categories) and Graph Theory"
   ]
  },
  {
   "cell_type": "code",
   "execution_count": 36,
   "metadata": {},
   "outputs": [],
   "source": [
    "def recommend_book(ASIN,sim = 0.2):\n",
    "    print (\"Recommendations for User Purchasing the Book with:\")\n",
    "    print()\n",
    "    purchasedAsin = ASIN\n",
    "\n",
    "\n",
    "    print (\"ASIN = \", purchasedAsin) \n",
    "    print (\"Title = \", amazonBooks[purchasedAsin]['Title'])\n",
    "    print (\"SalesRank = \", amazonBooks[purchasedAsin]['SalesRank'])\n",
    "    print (\"TotalReviews = \", amazonBooks[purchasedAsin]['TotalReviews'])\n",
    "    print (\"AvgRating = \", amazonBooks[purchasedAsin]['AvgRating'])\n",
    "    print()\n",
    "\n",
    "\n",
    "    purchasedEgoGraph = networkx.ego_graph(purchased_TogetherGraph, purchasedAsin, radius=1)\n",
    "\n",
    "    threshold = sim\n",
    "    purchasedEgoTrimGraph = networkx.Graph()\n",
    "    for f, t, e in purchasedEgoGraph.edges(data=True):\n",
    "         if e['weight'] >= threshold:\n",
    "            purchasedEgoTrimGraph.add_edge(f,t,edge=e)\n",
    "\n",
    "\n",
    "    purchasedNeighbors = []\n",
    "    for f, t, e in purchasedEgoTrimGraph.edges(data=True):\n",
    "        if f == purchasedAsin:\n",
    "            purchasedNeighbors.append(t)\n",
    "\n",
    "    measure = {}\n",
    "\n",
    "\n",
    "    for asin in purchasedNeighbors:\n",
    "        measure[asin] = (math.log(amazonBooks[asin]['TotalReviews']+ 1) +  math.log(amazonBooks[asin]['AvgRating']+1))* 0.5 + math.log(amazonBooks[asin]['DegreeCentrality']+1)*0.3 + (amazonBooks[asin]['ClusteringCoeff'])*0.2\n",
    "\n",
    "\n",
    "    sorted_measure = dict(sorted(measure.items(), key = operator.itemgetter(1), reverse = True))\n",
    "\n",
    "\n",
    "    sorted_top5 = {}\n",
    "    c=1\n",
    "    for i in sorted_measure:\n",
    "        if c > 5:\n",
    "            break\n",
    "        sorted_top5[i] = sorted_measure[i]\n",
    "        c+=1\n",
    "\n",
    "\n",
    "    n = 1\n",
    "    for i in sorted_top5:\n",
    "        print(\"Recommendation : \",n)\n",
    "        print(\"     Asin = \", i)\n",
    "        print(\"     Title = \", amazonBooks[i]['Title'])\n",
    "        print(\"     SalesRank = \", amazonBooks[i]['SalesRank'])\n",
    "        print(\"     TotalReviews = \", amazonBooks[i]['TotalReviews'])\n",
    "        print(\"     AvgRating = \", amazonBooks[i]['AvgRating'])\n",
    "        print()\n",
    "        n += 1"
   ]
  },
  {
   "cell_type": "code",
   "execution_count": 40,
   "metadata": {},
   "outputs": [
    {
     "name": "stdout",
     "output_type": "stream",
     "text": [
      "Recommendations for User Purchasing the Book with:\n",
      "\n",
      "ASIN =  1577943082\n",
      "Title =  Prayers That Avail Much for Business: Executive\n",
      "SalesRank =  455160\n",
      "TotalReviews =  0\n",
      "AvgRating =  0.0\n",
      "\n",
      "Recommendation :  1\n",
      "     Asin =  0892749504\n",
      "     Title =  Prayers That Avail Much: Three Bestselling Works Complete In One Volume, 25th Anniversary Commemorative\n",
      "     SalesRank =  16962\n",
      "     TotalReviews =  16\n",
      "     AvgRating =  4.5\n",
      "\n",
      "Recommendation :  2\n",
      "     Asin =  1577941829\n",
      "     Title =  Prayers That Avail Much for Men\n",
      "     SalesRank =  115696\n",
      "     TotalReviews =  0\n",
      "     AvgRating =  0.0\n",
      "\n",
      "Recommendation :  3\n",
      "     Asin =  157794349X\n",
      "     Title =  Prayers That Avail Much for the Workplace: The Business Handbook of Scriptural Prayer\n",
      "     SalesRank =  221617\n",
      "     TotalReviews =  0\n",
      "     AvgRating =  0.0\n",
      "\n"
     ]
    }
   ],
   "source": [
    "recommend_book('1577943082',0.3)"
   ]
  },
  {
   "cell_type": "markdown",
   "metadata": {},
   "source": [
    "# Recommendation based on Content based (on Titles) and Graph Theory"
   ]
  },
  {
   "cell_type": "code",
   "execution_count": 31,
   "metadata": {},
   "outputs": [],
   "source": [
    "def recommend_book_Title(ASIN,sim = 0.2):\n",
    "    print (\"Recommendations for User Purchasing the Book with:\")\n",
    "    print()\n",
    "    purchasedAsin = ASIN\n",
    "\n",
    "\n",
    "    print (\"ASIN = \", purchasedAsin) \n",
    "    print (\"Title = \", amazonBooks[purchasedAsin]['Title'])\n",
    "    print (\"SalesRank = \", amazonBooks[purchasedAsin]['SalesRank'])\n",
    "    print (\"TotalReviews = \", amazonBooks[purchasedAsin]['TotalReviews'])\n",
    "    print (\"AvgRating = \", amazonBooks[purchasedAsin]['AvgRating'])\n",
    "    print()\n",
    "\n",
    "\n",
    "    purchasedEgoGraph = networkx.ego_graph(purchased_TitleGraph, purchasedAsin, radius=1)\n",
    "\n",
    "    threshold = sim\n",
    "    purchasedEgoTrimGraph = networkx.Graph()\n",
    "    for f, t, e in purchasedEgoGraph.edges(data=True):\n",
    "         if e['weight'] >= threshold:\n",
    "            purchasedEgoTrimGraph.add_edge(f,t,edge=e)\n",
    "\n",
    "\n",
    "    purchasedNeighbors = []\n",
    "    for f, t, e in purchasedEgoTrimGraph.edges(data=True):\n",
    "        if f == purchasedAsin:\n",
    "            purchasedNeighbors.append(t)\n",
    "\n",
    "    measure = {}\n",
    "\n",
    "\n",
    "    for asin in purchasedNeighbors:\n",
    "        measure[asin] = (math.log(amazonBooks[asin]['TotalReviews']+ 1) +  math.log(amazonBooks[asin]['AvgRating']+1))* 0.5 + math.log(amazonBooks[asin]['DegreeCentrality']+1)*0.3 + (amazonBooks[asin]['ClusteringCoeff'])*0.2\n",
    "\n",
    "\n",
    "    sorted_measure = dict(sorted(measure.items(), key = operator.itemgetter(1), reverse = True))\n",
    "\n",
    "\n",
    "    sorted_top5 = {}\n",
    "    c=1\n",
    "    for i in sorted_measure:\n",
    "        if c > 5:\n",
    "            break\n",
    "        sorted_top5[i] = sorted_measure[i]\n",
    "        c+=1\n",
    "\n",
    "\n",
    "    n = 1\n",
    "    for i in sorted_top5:\n",
    "        print(\"Recommendation : \",n)\n",
    "        print(\"     Asin = \", i)\n",
    "        print(\"     Title = \", amazonBooks[i]['Title'])\n",
    "        print(\"     SalesRank = \", amazonBooks[i]['SalesRank'])\n",
    "        print(\"     TotalReviews = \", amazonBooks[i]['TotalReviews'])\n",
    "        print(\"     AvgRating = \", amazonBooks[i]['AvgRating'])\n",
    "        print()\n",
    "        n += 1"
   ]
  },
  {
   "cell_type": "code",
   "execution_count": 43,
   "metadata": {},
   "outputs": [
    {
     "name": "stdout",
     "output_type": "stream",
     "text": [
      "Recommendations for User Purchasing the Book with:\n",
      "\n",
      "ASIN =  1577943082\n",
      "Title =  Prayers That Avail Much for Business: Executive\n",
      "SalesRank =  455160\n",
      "TotalReviews =  0\n",
      "AvgRating =  0.0\n",
      "\n",
      "Recommendation :  1\n",
      "     Asin =  0892749504\n",
      "     Title =  Prayers That Avail Much: Three Bestselling Works Complete In One Volume, 25th Anniversary Commemorative\n",
      "     SalesRank =  16962\n",
      "     TotalReviews =  16\n",
      "     AvgRating =  4.5\n",
      "\n",
      "Recommendation :  2\n",
      "     Asin =  1577941829\n",
      "     Title =  Prayers That Avail Much for Men\n",
      "     SalesRank =  115696\n",
      "     TotalReviews =  0\n",
      "     AvgRating =  0.0\n",
      "\n",
      "Recommendation :  3\n",
      "     Asin =  157794349X\n",
      "     Title =  Prayers That Avail Much for the Workplace: The Business Handbook of Scriptural Prayer\n",
      "     SalesRank =  221617\n",
      "     TotalReviews =  0\n",
      "     AvgRating =  0.0\n",
      "\n"
     ]
    }
   ],
   "source": [
    "recommend_book_Title('1577943082',0)"
   ]
  }
 ],
 "metadata": {
  "kernelspec": {
   "display_name": "Python 3",
   "language": "python",
   "name": "python3"
  },
  "language_info": {
   "codemirror_mode": {
    "name": "ipython",
    "version": 3
   },
   "file_extension": ".py",
   "mimetype": "text/x-python",
   "name": "python",
   "nbconvert_exporter": "python",
   "pygments_lexer": "ipython3",
   "version": "3.7.3"
  }
 },
 "nbformat": 4,
 "nbformat_minor": 2
}

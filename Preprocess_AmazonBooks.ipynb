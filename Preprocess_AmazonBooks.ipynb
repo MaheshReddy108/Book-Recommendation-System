{
 "cells": [
  {
   "cell_type": "markdown",
   "metadata": {},
   "source": [
    "# Reading from amazon-raw file and pre-processing"
   ]
  },
  {
   "cell_type": "code",
   "execution_count": 11,
   "metadata": {},
   "outputs": [
    {
     "name": "stderr",
     "output_type": "stream",
     "text": [
      "[nltk_data] Downloading package stopwords to /Users/Mahesh\n",
      "[nltk_data]     Reddy/nltk_data...\n",
      "[nltk_data]   Package stopwords is already up-to-date!\n"
     ]
    }
   ],
   "source": [
    "import string\n",
    "import re\n",
    "import nltk\n",
    "nltk.download('stopwords')\n",
    "from nltk.corpus import stopwords\n",
    "from stemming.porter2 import stem\n",
    "import networkx\n",
    "\n",
    "\n",
    "file = open('./amazon-raw.txt', 'r', encoding='utf-8', errors='ignore')\n",
    "\n",
    "amazonProducts = {}\n",
    "(Id, ASIN, Title, Categories, Group, purchased_together, SalesRank, TotalReviews, AvgRating, DegreeCentrality, ClusteringCoeff) = \\\n",
    "    (\"\", \"\", \"\", \"\", \"\", \"\", 0, 0, 0.0, 0, 0.0)\n",
    "for line in file:\n",
    "    line = line.strip()\n",
    "    if(line.startswith(\"Id\")):\n",
    "        Id = line[3:].strip()\n",
    "    elif(line.startswith(\"ASIN\")):\n",
    "        ASIN = line[5:].strip()\n",
    "    elif(line.startswith(\"title\")):\n",
    "        Title = line[6:].strip()\n",
    "        Title = ' '.join(Title.split())\n",
    "    elif(line.startswith(\"group\")):\n",
    "        Group = line[6:].strip()\n",
    "    elif(line.startswith(\"salesrank\")):\n",
    "        SalesRank = line[10:].strip()\n",
    "    elif(line.startswith(\"similar\")):\n",
    "        ls = line.split()\n",
    "        purchased_together = ' '.join([c for c in ls[2:]])\n",
    "    elif(line.startswith(\"categories\")):\n",
    "        ls = line.split()\n",
    "        Categories = ' '.join((file.readline()).lower() for i in range(int(ls[1].strip())))\n",
    "        Categories = re.compile('[%s]' % re.escape(string.digits+string.punctuation)).sub(' ', Categories)\n",
    "        Categories = ' '.join(set(Categories.split())-set(stopwords.words(\"english\")))        \n",
    "        Categories = ' '.join(stem(word) for word in Categories.split())\n",
    "    elif(line.startswith(\"reviews\")):\n",
    "        ls = line.split()\n",
    "        TotalReviews = ls[2].strip()\n",
    "        AvgRating = ls[7].strip()\n",
    "    elif (line==\"\"):\n",
    "        try:\n",
    "            RawData = {}\n",
    "            if (ASIN != \"\"):\n",
    "                amazonProducts[ASIN]=RawData\n",
    "            RawData['Id'] = Id            \n",
    "            RawData['Title'] = Title\n",
    "            RawData['Categories'] = ' '.join(set(Categories.split()))\n",
    "            RawData['Group'] = Group\n",
    "            RawData['purchased_together'] = purchased_together\n",
    "            RawData['SalesRank'] = int(SalesRank)\n",
    "            RawData['TotalReviews'] = int(TotalReviews)\n",
    "            RawData['AvgRating'] = float(AvgRating)\n",
    "            RawData['DegreeCentrality'] = DegreeCentrality\n",
    "            RawData['ClusteringCoeff'] = ClusteringCoeff\n",
    "        except NameError:\n",
    "            continue\n",
    "        (Id, ASIN, Title, Categories, Group, purchased_together, SalesRank, TotalReviews, AvgRating, DegreeCentrality, ClusteringCoeff) = \\\n",
    "            (\"\", \"\", \"\", \"\", \"\", \"\", 0, 0, 0.0, 0, 0.0)\n",
    "file.close()\n"
   ]
  },
  {
   "cell_type": "markdown",
   "metadata": {},
   "source": [
    "# considering only \"book\" from Group"
   ]
  },
  {
   "cell_type": "code",
   "execution_count": 12,
   "metadata": {},
   "outputs": [],
   "source": [
    "\n",
    "amazonBooks = {}\n",
    "for asin,RawData in amazonProducts.items():\n",
    "    if (RawData['Group']=='Book'):\n",
    "        amazonBooks[asin] = amazonProducts[asin]\n",
    "\n",
    "for asin, RawData in amazonBooks.items(): \n",
    "    amazonBooks[asin]['purchased_together'] = \\\n",
    "        ' '.join([cp for cp in RawData['purchased_together'].split() \\\n",
    "            if cp in amazonBooks.keys()])\n"
   ]
  },
  {
   "cell_type": "markdown",
   "metadata": {},
   "source": [
    "# creating purchased together Graph structure"
   ]
  },
  {
   "cell_type": "code",
   "execution_count": 13,
   "metadata": {},
   "outputs": [],
   "source": [
    "purchased_TogetherGraph = networkx.Graph()\n",
    "for asin,RawData in amazonBooks.items():\n",
    "    purchased_TogetherGraph.add_node(asin)\n",
    "    for a in RawData['purchased_together'].split():\n",
    "        purchased_TogetherGraph.add_node(a.strip())\n",
    "        similarity = 0        \n",
    "        x = set((amazonBooks[asin]['Categories']).split())\n",
    "        y = set((amazonBooks[a]['Categories']).split())\n",
    "        xIy = x & y\n",
    "        xUy = x | y\n",
    "        if (len(xUy)) > 0:\n",
    "            similarity = round(len(xIy)/len(xUy),2)\n",
    "        purchased_TogetherGraph.add_edge(asin, a.strip(), weight=similarity)"
   ]
  },
  {
   "cell_type": "code",
   "execution_count": null,
   "metadata": {},
   "outputs": [],
   "source": []
  },
  {
   "cell_type": "code",
   "execution_count": 18,
   "metadata": {},
   "outputs": [],
   "source": [
    "purchased_TitleGraph = networkx.Graph()\n",
    "for asin,RawData in amazonBooks.items():\n",
    "    purchased_TogetherGraph.add_node(asin)\n",
    "    for a in RawData['purchased_together'].split():\n",
    "        purchased_TogetherGraph.add_node(a.strip())\n",
    "        similarity = 0        \n",
    "        x = set((amazonBooks[asin]['Title']).split())\n",
    "        y = set((amazonBooks[a]['Title']).split())\n",
    "        xIy = x & y\n",
    "        xUy = x | y\n",
    "        if (len(xUy)) > 0:\n",
    "            similarity = round(len(xIy)/len(xUy),2)\n",
    "        purchased_TitleGraph.add_edge(asin, a.strip(), weight=similarity)"
   ]
  },
  {
   "cell_type": "code",
   "execution_count": 14,
   "metadata": {},
   "outputs": [],
   "source": [
    "\n",
    "degree = networkx.degree(purchased_TogetherGraph)\n",
    "for asin in networkx.nodes(purchased_TogetherGraph):\n",
    "    RawData = amazonBooks[asin]\n",
    "    RawData['DegreeCentrality'] = int(degree[asin])\n",
    "    ego = networkx.ego_graph(purchased_TogetherGraph, asin, radius=1)\n",
    "    RawData['ClusteringCoeff'] = round(networkx.average_clustering(ego),2)\n",
    "    amazonBooks[asin] = RawData"
   ]
  },
  {
   "cell_type": "code",
   "execution_count": null,
   "metadata": {},
   "outputs": [],
   "source": []
  },
  {
   "cell_type": "code",
   "execution_count": 19,
   "metadata": {},
   "outputs": [],
   "source": [
    "degree = networkx.degree(purchased_TitleGraph)\n",
    "for asin in networkx.nodes(purchased_TitleGraph):\n",
    "    RawData = amazonBooks[asin]\n",
    "    RawData['DegreeCentrality'] = int(degree[asin])\n",
    "    ego = networkx.ego_graph(purchased_TitleGraph, asin, radius=1)\n",
    "    RawData['ClusteringCoeff'] = round(networkx.average_clustering(ego),2)\n",
    "    amazonBooks[asin] = RawData"
   ]
  },
  {
   "cell_type": "code",
   "execution_count": 16,
   "metadata": {},
   "outputs": [],
   "source": [
    "\n",
    "file_2 = open('./amazon-books.txt', 'w', encoding='utf-8', errors='ignore')\n",
    "file_2.write(\"Id\\t\" + \"ASIN\\t\" + \"Title\\t\" + \n",
    "        \"Categories\\t\" + \"Group\\t\" #+ \"Copurchased\\t\" + \n",
    "        \"SalesRank\\t\" + \"TotalReviews\\t\" + \"AvgRating\\t\"\n",
    "        \"DegreeCentrality\\t\" + \"ClusteringCoeff\\n\")\n",
    "for asin,RawData in amazonBooks.items():\n",
    "    file_2.write(RawData['Id'] + \"\\t\" + \\\n",
    "            asin + \"\\t\" + \\\n",
    "            RawData['Title'] + \"\\t\" + \\\n",
    "            RawData['Categories'] + \"\\t\" + \\\n",
    "            RawData['Group'] + \"\\t\" + \\\n",
    "            str(RawData['SalesRank']) + \"\\t\" + \\\n",
    "            str(RawData['TotalReviews']) + \"\\t\" + \\\n",
    "            str(RawData['AvgRating']) + \"\\t\" + \\\n",
    "            str(RawData['DegreeCentrality']) + \"\\t\" + \\\n",
    "            str(RawData['ClusteringCoeff']) + \"\\n\")\n",
    "file_2.close()\n",
    "\n",
    "file_2 = open(\"purchased_Together.edgelist\",'wb')\n",
    "networkx.write_weighted_edgelist(purchased_TogetherGraph, file_2)\n",
    "file_2.close()"
   ]
  },
  {
   "cell_type": "code",
   "execution_count": null,
   "metadata": {},
   "outputs": [],
   "source": []
  },
  {
   "cell_type": "code",
   "execution_count": 20,
   "metadata": {},
   "outputs": [],
   "source": [
    "file_2 = open('./amazon-books.txt', 'w', encoding='utf-8', errors='ignore')\n",
    "file_2.write(\"Id\\t\" + \"ASIN\\t\" + \"Title\\t\" + \n",
    "        \"Categories\\t\" + \"Group\\t\" #+ \"Copurchased\\t\" + \n",
    "        \"SalesRank\\t\" + \"TotalReviews\\t\" + \"AvgRating\\t\"\n",
    "        \"DegreeCentrality\\t\" + \"ClusteringCoeff\\n\")\n",
    "for asin,RawData in amazonBooks.items():\n",
    "    file_2.write(RawData['Id'] + \"\\t\" + \\\n",
    "            asin + \"\\t\" + \\\n",
    "            RawData['Title'] + \"\\t\" + \\\n",
    "            RawData['Categories'] + \"\\t\" + \\\n",
    "            RawData['Group'] + \"\\t\" + \\\n",
    "            str(RawData['SalesRank']) + \"\\t\" + \\\n",
    "            str(RawData['TotalReviews']) + \"\\t\" + \\\n",
    "            str(RawData['AvgRating']) + \"\\t\" + \\\n",
    "            str(RawData['DegreeCentrality']) + \"\\t\" + \\\n",
    "            str(RawData['ClusteringCoeff']) + \"\\n\")\n",
    "file_2.close()\n",
    "\n",
    "file_2 = open(\"purchased_Together_Title.edgelist\",'wb')\n",
    "networkx.write_weighted_edgelist(purchased_TitleGraph, file_2)\n",
    "file_2.close()"
   ]
  },
  {
   "cell_type": "code",
   "execution_count": null,
   "metadata": {},
   "outputs": [],
   "source": []
  }
 ],
 "metadata": {
  "kernelspec": {
   "display_name": "Python 3",
   "language": "python",
   "name": "python3"
  },
  "language_info": {
   "codemirror_mode": {
    "name": "ipython",
    "version": 3
   },
   "file_extension": ".py",
   "mimetype": "text/x-python",
   "name": "python",
   "nbconvert_exporter": "python",
   "pygments_lexer": "ipython3",
   "version": "3.7.3"
  }
 },
 "nbformat": 4,
 "nbformat_minor": 2
}
